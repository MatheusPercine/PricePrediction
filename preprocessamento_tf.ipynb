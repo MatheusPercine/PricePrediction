{
  "nbformat": 4,
  "nbformat_minor": 0,
  "metadata": {
    "colab": {
      "provenance": [],
      "collapsed_sections": [
        "Y-yzNwtD5inQ",
        "u-IbNQmQ6QlI",
        "IHqLLdnHBmOz",
        "MPDqIhQ1IO2t",
        "ORUFzkyYLj3r",
        "qMwl_7A1NGTf",
        "OJnYHVLn9lgF",
        "qEUQe6vUN-6B"
      ]
    },
    "kernelspec": {
      "name": "python3",
      "display_name": "Python 3"
    },
    "language_info": {
      "name": "python"
    }
  },
  "cells": [
    {
      "cell_type": "markdown",
      "source": [
        "Trabalho Final - Introdução ao Aprendizado de Máquina\n",
        "\n",
        "Gustavo Mariz, Andrew Faria e Matheus Percine"
      ],
      "metadata": {
        "id": "qv8oddhKVWkB"
      }
    },
    {
      "cell_type": "markdown",
      "source": [
        "# Dados\n"
      ],
      "metadata": {
        "id": "_wGQaoibSq7K"
      }
    },
    {
      "cell_type": "code",
      "execution_count": null,
      "metadata": {
        "id": "J1FBzo0xdzaN"
      },
      "outputs": [],
      "source": [
        "#Importações\n",
        "import pandas as pd\n",
        "import matplotlib.pyplot as plt\n",
        "from scipy import stats\n",
        "import numpy as np\n",
        "from google.colab import files\n",
        "import sklearn"
      ]
    },
    {
      "cell_type": "code",
      "source": [
        "#Importando a Database\n",
        "df = pd.read_csv(\"/content/apartments_for_rent_classified_100K.csv\",sep=\";\", encoding='cp1252')\n",
        "\n",
        "#Printando para avaliar a importação\n",
        "df.head()"
      ],
      "metadata": {
        "colab": {
          "base_uri": "https://localhost:8080/",
          "height": 639
        },
        "id": "Y5kp06wPLEVA",
        "outputId": "6ece311d-a0fa-4e11-dad5-25406b892fea"
      },
      "execution_count": null,
      "outputs": [
        {
          "output_type": "stream",
          "name": "stderr",
          "text": [
            "<ipython-input-20-20bffec93e76>:2: DtypeWarning: Columns (15) have mixed types. Specify dtype option on import or set low_memory=False.\n",
            "  df = pd.read_csv(\"/content/apartments_for_rent_classified_100K.csv\",sep=\";\", encoding='cp1252')\n"
          ]
        },
        {
          "output_type": "execute_result",
          "data": {
            "text/plain": [
              "           id                category                            title  \\\n",
              "0  5668640009  housing/rent/apartment       One BR 507 & 509 Esplanade   \n",
              "1  5668639818  housing/rent/apartment      Three BR 146 Lochview Drive   \n",
              "2  5668639686  housing/rent/apartment  Three BR 3101 Morningside Drive   \n",
              "3  5668639659  housing/rent/apartment            Two BR 209 Aegean Way   \n",
              "4  5668639374  housing/rent/apartment         One BR 4805 Marquette NE   \n",
              "\n",
              "                                                body amenities  bathrooms  \\\n",
              "0  This unit is located at 507 & 509 Esplanade, R...       NaN        1.0   \n",
              "1  This unit is located at 146 Lochview Drive, Ne...       NaN        1.5   \n",
              "2  This unit is located at 3101 Morningside Drive...       NaN        2.0   \n",
              "3  This unit is located at 209 Aegean Way, Vacavi...       NaN        1.0   \n",
              "4  This unit is located at 4805 Marquette NE, Alb...       NaN        1.0   \n",
              "\n",
              "   bedrooms currency fee  has_photo  ... price_display  price_type  \\\n",
              "0       1.0      USD  No  Thumbnail  ...        $2,195     Monthly   \n",
              "1       3.0      USD  No  Thumbnail  ...        $1,250     Monthly   \n",
              "2       3.0      USD  No  Thumbnail  ...        $1,395     Monthly   \n",
              "3       2.0      USD  No  Thumbnail  ...        $1,600     Monthly   \n",
              "4       1.0      USD  No  Thumbnail  ...          $975     Monthly   \n",
              "\n",
              "  square_feet              address       cityname state latitude longitude  \\\n",
              "0         542   507  509 Esplanade  Redondo Beach    CA  33.8520 -118.3759   \n",
              "1        1500      146 Lochview Dr   Newport News    VA  37.0867  -76.4941   \n",
              "2        1650  3101 Morningside Dr        Raleigh    NC  35.8230  -78.6438   \n",
              "3         820       209 Aegean Way      Vacaville    CA  38.3622 -121.9712   \n",
              "4         624    4805 Marquette NE    Albuquerque    NM  35.1038 -106.6110   \n",
              "\n",
              "      source        time  \n",
              "0  RentLingo  1577360355  \n",
              "1  RentLingo  1577360340  \n",
              "2  RentLingo  1577360332  \n",
              "3  RentLingo  1577360330  \n",
              "4  RentLingo  1577360308  \n",
              "\n",
              "[5 rows x 22 columns]"
            ],
            "text/html": [
              "\n",
              "  <div id=\"df-b052561f-0b57-47eb-8be5-3736d48c3127\" class=\"colab-df-container\">\n",
              "    <div>\n",
              "<style scoped>\n",
              "    .dataframe tbody tr th:only-of-type {\n",
              "        vertical-align: middle;\n",
              "    }\n",
              "\n",
              "    .dataframe tbody tr th {\n",
              "        vertical-align: top;\n",
              "    }\n",
              "\n",
              "    .dataframe thead th {\n",
              "        text-align: right;\n",
              "    }\n",
              "</style>\n",
              "<table border=\"1\" class=\"dataframe\">\n",
              "  <thead>\n",
              "    <tr style=\"text-align: right;\">\n",
              "      <th></th>\n",
              "      <th>id</th>\n",
              "      <th>category</th>\n",
              "      <th>title</th>\n",
              "      <th>body</th>\n",
              "      <th>amenities</th>\n",
              "      <th>bathrooms</th>\n",
              "      <th>bedrooms</th>\n",
              "      <th>currency</th>\n",
              "      <th>fee</th>\n",
              "      <th>has_photo</th>\n",
              "      <th>...</th>\n",
              "      <th>price_display</th>\n",
              "      <th>price_type</th>\n",
              "      <th>square_feet</th>\n",
              "      <th>address</th>\n",
              "      <th>cityname</th>\n",
              "      <th>state</th>\n",
              "      <th>latitude</th>\n",
              "      <th>longitude</th>\n",
              "      <th>source</th>\n",
              "      <th>time</th>\n",
              "    </tr>\n",
              "  </thead>\n",
              "  <tbody>\n",
              "    <tr>\n",
              "      <th>0</th>\n",
              "      <td>5668640009</td>\n",
              "      <td>housing/rent/apartment</td>\n",
              "      <td>One BR 507 &amp; 509 Esplanade</td>\n",
              "      <td>This unit is located at 507 &amp; 509 Esplanade, R...</td>\n",
              "      <td>NaN</td>\n",
              "      <td>1.0</td>\n",
              "      <td>1.0</td>\n",
              "      <td>USD</td>\n",
              "      <td>No</td>\n",
              "      <td>Thumbnail</td>\n",
              "      <td>...</td>\n",
              "      <td>$2,195</td>\n",
              "      <td>Monthly</td>\n",
              "      <td>542</td>\n",
              "      <td>507  509 Esplanade</td>\n",
              "      <td>Redondo Beach</td>\n",
              "      <td>CA</td>\n",
              "      <td>33.8520</td>\n",
              "      <td>-118.3759</td>\n",
              "      <td>RentLingo</td>\n",
              "      <td>1577360355</td>\n",
              "    </tr>\n",
              "    <tr>\n",
              "      <th>1</th>\n",
              "      <td>5668639818</td>\n",
              "      <td>housing/rent/apartment</td>\n",
              "      <td>Three BR 146 Lochview Drive</td>\n",
              "      <td>This unit is located at 146 Lochview Drive, Ne...</td>\n",
              "      <td>NaN</td>\n",
              "      <td>1.5</td>\n",
              "      <td>3.0</td>\n",
              "      <td>USD</td>\n",
              "      <td>No</td>\n",
              "      <td>Thumbnail</td>\n",
              "      <td>...</td>\n",
              "      <td>$1,250</td>\n",
              "      <td>Monthly</td>\n",
              "      <td>1500</td>\n",
              "      <td>146 Lochview Dr</td>\n",
              "      <td>Newport News</td>\n",
              "      <td>VA</td>\n",
              "      <td>37.0867</td>\n",
              "      <td>-76.4941</td>\n",
              "      <td>RentLingo</td>\n",
              "      <td>1577360340</td>\n",
              "    </tr>\n",
              "    <tr>\n",
              "      <th>2</th>\n",
              "      <td>5668639686</td>\n",
              "      <td>housing/rent/apartment</td>\n",
              "      <td>Three BR 3101 Morningside Drive</td>\n",
              "      <td>This unit is located at 3101 Morningside Drive...</td>\n",
              "      <td>NaN</td>\n",
              "      <td>2.0</td>\n",
              "      <td>3.0</td>\n",
              "      <td>USD</td>\n",
              "      <td>No</td>\n",
              "      <td>Thumbnail</td>\n",
              "      <td>...</td>\n",
              "      <td>$1,395</td>\n",
              "      <td>Monthly</td>\n",
              "      <td>1650</td>\n",
              "      <td>3101 Morningside Dr</td>\n",
              "      <td>Raleigh</td>\n",
              "      <td>NC</td>\n",
              "      <td>35.8230</td>\n",
              "      <td>-78.6438</td>\n",
              "      <td>RentLingo</td>\n",
              "      <td>1577360332</td>\n",
              "    </tr>\n",
              "    <tr>\n",
              "      <th>3</th>\n",
              "      <td>5668639659</td>\n",
              "      <td>housing/rent/apartment</td>\n",
              "      <td>Two BR 209 Aegean Way</td>\n",
              "      <td>This unit is located at 209 Aegean Way, Vacavi...</td>\n",
              "      <td>NaN</td>\n",
              "      <td>1.0</td>\n",
              "      <td>2.0</td>\n",
              "      <td>USD</td>\n",
              "      <td>No</td>\n",
              "      <td>Thumbnail</td>\n",
              "      <td>...</td>\n",
              "      <td>$1,600</td>\n",
              "      <td>Monthly</td>\n",
              "      <td>820</td>\n",
              "      <td>209 Aegean Way</td>\n",
              "      <td>Vacaville</td>\n",
              "      <td>CA</td>\n",
              "      <td>38.3622</td>\n",
              "      <td>-121.9712</td>\n",
              "      <td>RentLingo</td>\n",
              "      <td>1577360330</td>\n",
              "    </tr>\n",
              "    <tr>\n",
              "      <th>4</th>\n",
              "      <td>5668639374</td>\n",
              "      <td>housing/rent/apartment</td>\n",
              "      <td>One BR 4805 Marquette NE</td>\n",
              "      <td>This unit is located at 4805 Marquette NE, Alb...</td>\n",
              "      <td>NaN</td>\n",
              "      <td>1.0</td>\n",
              "      <td>1.0</td>\n",
              "      <td>USD</td>\n",
              "      <td>No</td>\n",
              "      <td>Thumbnail</td>\n",
              "      <td>...</td>\n",
              "      <td>$975</td>\n",
              "      <td>Monthly</td>\n",
              "      <td>624</td>\n",
              "      <td>4805 Marquette NE</td>\n",
              "      <td>Albuquerque</td>\n",
              "      <td>NM</td>\n",
              "      <td>35.1038</td>\n",
              "      <td>-106.6110</td>\n",
              "      <td>RentLingo</td>\n",
              "      <td>1577360308</td>\n",
              "    </tr>\n",
              "  </tbody>\n",
              "</table>\n",
              "<p>5 rows × 22 columns</p>\n",
              "</div>\n",
              "    <div class=\"colab-df-buttons\">\n",
              "\n",
              "  <div class=\"colab-df-container\">\n",
              "    <button class=\"colab-df-convert\" onclick=\"convertToInteractive('df-b052561f-0b57-47eb-8be5-3736d48c3127')\"\n",
              "            title=\"Convert this dataframe to an interactive table.\"\n",
              "            style=\"display:none;\">\n",
              "\n",
              "  <svg xmlns=\"http://www.w3.org/2000/svg\" height=\"24px\" viewBox=\"0 -960 960 960\">\n",
              "    <path d=\"M120-120v-720h720v720H120Zm60-500h600v-160H180v160Zm220 220h160v-160H400v160Zm0 220h160v-160H400v160ZM180-400h160v-160H180v160Zm440 0h160v-160H620v160ZM180-180h160v-160H180v160Zm440 0h160v-160H620v160Z\"/>\n",
              "  </svg>\n",
              "    </button>\n",
              "\n",
              "  <style>\n",
              "    .colab-df-container {\n",
              "      display:flex;\n",
              "      gap: 12px;\n",
              "    }\n",
              "\n",
              "    .colab-df-convert {\n",
              "      background-color: #E8F0FE;\n",
              "      border: none;\n",
              "      border-radius: 50%;\n",
              "      cursor: pointer;\n",
              "      display: none;\n",
              "      fill: #1967D2;\n",
              "      height: 32px;\n",
              "      padding: 0 0 0 0;\n",
              "      width: 32px;\n",
              "    }\n",
              "\n",
              "    .colab-df-convert:hover {\n",
              "      background-color: #E2EBFA;\n",
              "      box-shadow: 0px 1px 2px rgba(60, 64, 67, 0.3), 0px 1px 3px 1px rgba(60, 64, 67, 0.15);\n",
              "      fill: #174EA6;\n",
              "    }\n",
              "\n",
              "    .colab-df-buttons div {\n",
              "      margin-bottom: 4px;\n",
              "    }\n",
              "\n",
              "    [theme=dark] .colab-df-convert {\n",
              "      background-color: #3B4455;\n",
              "      fill: #D2E3FC;\n",
              "    }\n",
              "\n",
              "    [theme=dark] .colab-df-convert:hover {\n",
              "      background-color: #434B5C;\n",
              "      box-shadow: 0px 1px 3px 1px rgba(0, 0, 0, 0.15);\n",
              "      filter: drop-shadow(0px 1px 2px rgba(0, 0, 0, 0.3));\n",
              "      fill: #FFFFFF;\n",
              "    }\n",
              "  </style>\n",
              "\n",
              "    <script>\n",
              "      const buttonEl =\n",
              "        document.querySelector('#df-b052561f-0b57-47eb-8be5-3736d48c3127 button.colab-df-convert');\n",
              "      buttonEl.style.display =\n",
              "        google.colab.kernel.accessAllowed ? 'block' : 'none';\n",
              "\n",
              "      async function convertToInteractive(key) {\n",
              "        const element = document.querySelector('#df-b052561f-0b57-47eb-8be5-3736d48c3127');\n",
              "        const dataTable =\n",
              "          await google.colab.kernel.invokeFunction('convertToInteractive',\n",
              "                                                    [key], {});\n",
              "        if (!dataTable) return;\n",
              "\n",
              "        const docLinkHtml = 'Like what you see? Visit the ' +\n",
              "          '<a target=\"_blank\" href=https://colab.research.google.com/notebooks/data_table.ipynb>data table notebook</a>'\n",
              "          + ' to learn more about interactive tables.';\n",
              "        element.innerHTML = '';\n",
              "        dataTable['output_type'] = 'display_data';\n",
              "        await google.colab.output.renderOutput(dataTable, element);\n",
              "        const docLink = document.createElement('div');\n",
              "        docLink.innerHTML = docLinkHtml;\n",
              "        element.appendChild(docLink);\n",
              "      }\n",
              "    </script>\n",
              "  </div>\n",
              "\n",
              "\n",
              "<div id=\"df-9f1ff323-4e9e-4673-8d47-b5b038033617\">\n",
              "  <button class=\"colab-df-quickchart\" onclick=\"quickchart('df-9f1ff323-4e9e-4673-8d47-b5b038033617')\"\n",
              "            title=\"Suggest charts\"\n",
              "            style=\"display:none;\">\n",
              "\n",
              "<svg xmlns=\"http://www.w3.org/2000/svg\" height=\"24px\"viewBox=\"0 0 24 24\"\n",
              "     width=\"24px\">\n",
              "    <g>\n",
              "        <path d=\"M19 3H5c-1.1 0-2 .9-2 2v14c0 1.1.9 2 2 2h14c1.1 0 2-.9 2-2V5c0-1.1-.9-2-2-2zM9 17H7v-7h2v7zm4 0h-2V7h2v10zm4 0h-2v-4h2v4z\"/>\n",
              "    </g>\n",
              "</svg>\n",
              "  </button>\n",
              "\n",
              "<style>\n",
              "  .colab-df-quickchart {\n",
              "      --bg-color: #E8F0FE;\n",
              "      --fill-color: #1967D2;\n",
              "      --hover-bg-color: #E2EBFA;\n",
              "      --hover-fill-color: #174EA6;\n",
              "      --disabled-fill-color: #AAA;\n",
              "      --disabled-bg-color: #DDD;\n",
              "  }\n",
              "\n",
              "  [theme=dark] .colab-df-quickchart {\n",
              "      --bg-color: #3B4455;\n",
              "      --fill-color: #D2E3FC;\n",
              "      --hover-bg-color: #434B5C;\n",
              "      --hover-fill-color: #FFFFFF;\n",
              "      --disabled-bg-color: #3B4455;\n",
              "      --disabled-fill-color: #666;\n",
              "  }\n",
              "\n",
              "  .colab-df-quickchart {\n",
              "    background-color: var(--bg-color);\n",
              "    border: none;\n",
              "    border-radius: 50%;\n",
              "    cursor: pointer;\n",
              "    display: none;\n",
              "    fill: var(--fill-color);\n",
              "    height: 32px;\n",
              "    padding: 0;\n",
              "    width: 32px;\n",
              "  }\n",
              "\n",
              "  .colab-df-quickchart:hover {\n",
              "    background-color: var(--hover-bg-color);\n",
              "    box-shadow: 0 1px 2px rgba(60, 64, 67, 0.3), 0 1px 3px 1px rgba(60, 64, 67, 0.15);\n",
              "    fill: var(--button-hover-fill-color);\n",
              "  }\n",
              "\n",
              "  .colab-df-quickchart-complete:disabled,\n",
              "  .colab-df-quickchart-complete:disabled:hover {\n",
              "    background-color: var(--disabled-bg-color);\n",
              "    fill: var(--disabled-fill-color);\n",
              "    box-shadow: none;\n",
              "  }\n",
              "\n",
              "  .colab-df-spinner {\n",
              "    border: 2px solid var(--fill-color);\n",
              "    border-color: transparent;\n",
              "    border-bottom-color: var(--fill-color);\n",
              "    animation:\n",
              "      spin 1s steps(1) infinite;\n",
              "  }\n",
              "\n",
              "  @keyframes spin {\n",
              "    0% {\n",
              "      border-color: transparent;\n",
              "      border-bottom-color: var(--fill-color);\n",
              "      border-left-color: var(--fill-color);\n",
              "    }\n",
              "    20% {\n",
              "      border-color: transparent;\n",
              "      border-left-color: var(--fill-color);\n",
              "      border-top-color: var(--fill-color);\n",
              "    }\n",
              "    30% {\n",
              "      border-color: transparent;\n",
              "      border-left-color: var(--fill-color);\n",
              "      border-top-color: var(--fill-color);\n",
              "      border-right-color: var(--fill-color);\n",
              "    }\n",
              "    40% {\n",
              "      border-color: transparent;\n",
              "      border-right-color: var(--fill-color);\n",
              "      border-top-color: var(--fill-color);\n",
              "    }\n",
              "    60% {\n",
              "      border-color: transparent;\n",
              "      border-right-color: var(--fill-color);\n",
              "    }\n",
              "    80% {\n",
              "      border-color: transparent;\n",
              "      border-right-color: var(--fill-color);\n",
              "      border-bottom-color: var(--fill-color);\n",
              "    }\n",
              "    90% {\n",
              "      border-color: transparent;\n",
              "      border-bottom-color: var(--fill-color);\n",
              "    }\n",
              "  }\n",
              "</style>\n",
              "\n",
              "  <script>\n",
              "    async function quickchart(key) {\n",
              "      const quickchartButtonEl =\n",
              "        document.querySelector('#' + key + ' button');\n",
              "      quickchartButtonEl.disabled = true;  // To prevent multiple clicks.\n",
              "      quickchartButtonEl.classList.add('colab-df-spinner');\n",
              "      try {\n",
              "        const charts = await google.colab.kernel.invokeFunction(\n",
              "            'suggestCharts', [key], {});\n",
              "      } catch (error) {\n",
              "        console.error('Error during call to suggestCharts:', error);\n",
              "      }\n",
              "      quickchartButtonEl.classList.remove('colab-df-spinner');\n",
              "      quickchartButtonEl.classList.add('colab-df-quickchart-complete');\n",
              "    }\n",
              "    (() => {\n",
              "      let quickchartButtonEl =\n",
              "        document.querySelector('#df-9f1ff323-4e9e-4673-8d47-b5b038033617 button');\n",
              "      quickchartButtonEl.style.display =\n",
              "        google.colab.kernel.accessAllowed ? 'block' : 'none';\n",
              "    })();\n",
              "  </script>\n",
              "</div>\n",
              "\n",
              "    </div>\n",
              "  </div>\n"
            ],
            "application/vnd.google.colaboratory.intrinsic+json": {
              "type": "dataframe",
              "variable_name": "df"
            }
          },
          "metadata": {},
          "execution_count": 20
        }
      ]
    },
    {
      "cell_type": "code",
      "source": [
        "#Adquirir dados básicos da tabela para visualização\n",
        "\n",
        "# Formato do dataframe\n",
        "formato = df.shape\n",
        "\n",
        "# Tamanho do dataframe\n",
        "tamanho = df.size\n",
        "\n",
        "# Número de Instâncias no dataframe\n",
        "num_ins = len(df)\n",
        "\n",
        "print('Formato do dataframe: ', formato)\n",
        "print('Tamanho do dataframe: ', tamanho)\n",
        "print('Número de Instâncias: ', num_ins)"
      ],
      "metadata": {
        "id": "kOcj1QDYeG-B",
        "colab": {
          "base_uri": "https://localhost:8080/"
        },
        "outputId": "d7d5157d-6c0b-4324-bf14-5799113b260b"
      },
      "execution_count": null,
      "outputs": [
        {
          "output_type": "stream",
          "name": "stdout",
          "text": [
            "Formato do dataframe:  (99492, 22)\n",
            "Tamanho do dataframe:  2188824\n",
            "Número de Instâncias:  99492\n"
          ]
        }
      ]
    },
    {
      "cell_type": "code",
      "source": [
        "#Count para avaliar possíveis diferenças entre as colunas e a falta de dados\n",
        "df.count()"
      ],
      "metadata": {
        "id": "CgN51Ot_en3m",
        "colab": {
          "base_uri": "https://localhost:8080/",
          "height": 773
        },
        "outputId": "df5d5bbd-0e2e-451b-b478-adc7bc3fc1bf"
      },
      "execution_count": null,
      "outputs": [
        {
          "output_type": "execute_result",
          "data": {
            "text/plain": [
              "id               99492\n",
              "category         99492\n",
              "title            99492\n",
              "body             99492\n",
              "amenities        83448\n",
              "bathrooms        99429\n",
              "bedrooms         99368\n",
              "currency         99492\n",
              "fee              99492\n",
              "has_photo        99492\n",
              "pets_allowed     39068\n",
              "price            99491\n",
              "price_display    99491\n",
              "price_type       99492\n",
              "square_feet      99492\n",
              "address           7943\n",
              "cityname         99190\n",
              "state            99190\n",
              "latitude         99467\n",
              "longitude        99467\n",
              "source           99492\n",
              "time             99492\n",
              "dtype: int64"
            ],
            "text/html": [
              "<div>\n",
              "<style scoped>\n",
              "    .dataframe tbody tr th:only-of-type {\n",
              "        vertical-align: middle;\n",
              "    }\n",
              "\n",
              "    .dataframe tbody tr th {\n",
              "        vertical-align: top;\n",
              "    }\n",
              "\n",
              "    .dataframe thead th {\n",
              "        text-align: right;\n",
              "    }\n",
              "</style>\n",
              "<table border=\"1\" class=\"dataframe\">\n",
              "  <thead>\n",
              "    <tr style=\"text-align: right;\">\n",
              "      <th></th>\n",
              "      <th>0</th>\n",
              "    </tr>\n",
              "  </thead>\n",
              "  <tbody>\n",
              "    <tr>\n",
              "      <th>id</th>\n",
              "      <td>99492</td>\n",
              "    </tr>\n",
              "    <tr>\n",
              "      <th>category</th>\n",
              "      <td>99492</td>\n",
              "    </tr>\n",
              "    <tr>\n",
              "      <th>title</th>\n",
              "      <td>99492</td>\n",
              "    </tr>\n",
              "    <tr>\n",
              "      <th>body</th>\n",
              "      <td>99492</td>\n",
              "    </tr>\n",
              "    <tr>\n",
              "      <th>amenities</th>\n",
              "      <td>83448</td>\n",
              "    </tr>\n",
              "    <tr>\n",
              "      <th>bathrooms</th>\n",
              "      <td>99429</td>\n",
              "    </tr>\n",
              "    <tr>\n",
              "      <th>bedrooms</th>\n",
              "      <td>99368</td>\n",
              "    </tr>\n",
              "    <tr>\n",
              "      <th>currency</th>\n",
              "      <td>99492</td>\n",
              "    </tr>\n",
              "    <tr>\n",
              "      <th>fee</th>\n",
              "      <td>99492</td>\n",
              "    </tr>\n",
              "    <tr>\n",
              "      <th>has_photo</th>\n",
              "      <td>99492</td>\n",
              "    </tr>\n",
              "    <tr>\n",
              "      <th>pets_allowed</th>\n",
              "      <td>39068</td>\n",
              "    </tr>\n",
              "    <tr>\n",
              "      <th>price</th>\n",
              "      <td>99491</td>\n",
              "    </tr>\n",
              "    <tr>\n",
              "      <th>price_display</th>\n",
              "      <td>99491</td>\n",
              "    </tr>\n",
              "    <tr>\n",
              "      <th>price_type</th>\n",
              "      <td>99492</td>\n",
              "    </tr>\n",
              "    <tr>\n",
              "      <th>square_feet</th>\n",
              "      <td>99492</td>\n",
              "    </tr>\n",
              "    <tr>\n",
              "      <th>address</th>\n",
              "      <td>7943</td>\n",
              "    </tr>\n",
              "    <tr>\n",
              "      <th>cityname</th>\n",
              "      <td>99190</td>\n",
              "    </tr>\n",
              "    <tr>\n",
              "      <th>state</th>\n",
              "      <td>99190</td>\n",
              "    </tr>\n",
              "    <tr>\n",
              "      <th>latitude</th>\n",
              "      <td>99467</td>\n",
              "    </tr>\n",
              "    <tr>\n",
              "      <th>longitude</th>\n",
              "      <td>99467</td>\n",
              "    </tr>\n",
              "    <tr>\n",
              "      <th>source</th>\n",
              "      <td>99492</td>\n",
              "    </tr>\n",
              "    <tr>\n",
              "      <th>time</th>\n",
              "      <td>99492</td>\n",
              "    </tr>\n",
              "  </tbody>\n",
              "</table>\n",
              "</div><br><label><b>dtype:</b> int64</label>"
            ]
          },
          "metadata": {},
          "execution_count": 22
        }
      ]
    },
    {
      "cell_type": "markdown",
      "source": [
        "# 1. Seleção de Atributos"
      ],
      "metadata": {
        "id": "Y-yzNwtD5inQ"
      }
    },
    {
      "cell_type": "code",
      "source": [
        "df['body']"
      ],
      "metadata": {
        "id": "-1_WSc-nV2Jb",
        "colab": {
          "base_uri": "https://localhost:8080/"
        },
        "outputId": "949180cf-c9f6-482e-99de-938f2c959faa"
      },
      "execution_count": null,
      "outputs": [
        {
          "output_type": "execute_result",
          "data": {
            "text/plain": [
              "0        This unit is located at 507 & 509 Esplanade, R...\n",
              "1        This unit is located at 146 Lochview Drive, Ne...\n",
              "2        This unit is located at 3101 Morningside Drive...\n",
              "3        This unit is located at 209 Aegean Way, Vacavi...\n",
              "4        This unit is located at 4805 Marquette NE, Alb...\n",
              "                               ...                        \n",
              "99487    Redefining urban living, in southeast Houston,...\n",
              "99488    Courtney Manor Apartments offer the best of ev...\n",
              "99489    Fully remodeled, new floor, kitchen cabinet, s...\n",
              "99490    Amenities include a fitness facilities, swimmi...\n",
              "99491    This is a brand new 2 Beds 1. five Bathrooms A...\n",
              "Name: body, Length: 99492, dtype: object"
            ],
            "text/html": [
              "<div>\n",
              "<style scoped>\n",
              "    .dataframe tbody tr th:only-of-type {\n",
              "        vertical-align: middle;\n",
              "    }\n",
              "\n",
              "    .dataframe tbody tr th {\n",
              "        vertical-align: top;\n",
              "    }\n",
              "\n",
              "    .dataframe thead th {\n",
              "        text-align: right;\n",
              "    }\n",
              "</style>\n",
              "<table border=\"1\" class=\"dataframe\">\n",
              "  <thead>\n",
              "    <tr style=\"text-align: right;\">\n",
              "      <th></th>\n",
              "      <th>body</th>\n",
              "    </tr>\n",
              "  </thead>\n",
              "  <tbody>\n",
              "    <tr>\n",
              "      <th>0</th>\n",
              "      <td>This unit is located at 507 &amp; 509 Esplanade, R...</td>\n",
              "    </tr>\n",
              "    <tr>\n",
              "      <th>1</th>\n",
              "      <td>This unit is located at 146 Lochview Drive, Ne...</td>\n",
              "    </tr>\n",
              "    <tr>\n",
              "      <th>2</th>\n",
              "      <td>This unit is located at 3101 Morningside Drive...</td>\n",
              "    </tr>\n",
              "    <tr>\n",
              "      <th>3</th>\n",
              "      <td>This unit is located at 209 Aegean Way, Vacavi...</td>\n",
              "    </tr>\n",
              "    <tr>\n",
              "      <th>4</th>\n",
              "      <td>This unit is located at 4805 Marquette NE, Alb...</td>\n",
              "    </tr>\n",
              "    <tr>\n",
              "      <th>...</th>\n",
              "      <td>...</td>\n",
              "    </tr>\n",
              "    <tr>\n",
              "      <th>99487</th>\n",
              "      <td>Redefining urban living, in southeast Houston,...</td>\n",
              "    </tr>\n",
              "    <tr>\n",
              "      <th>99488</th>\n",
              "      <td>Courtney Manor Apartments offer the best of ev...</td>\n",
              "    </tr>\n",
              "    <tr>\n",
              "      <th>99489</th>\n",
              "      <td>Fully remodeled, new floor, kitchen cabinet, s...</td>\n",
              "    </tr>\n",
              "    <tr>\n",
              "      <th>99490</th>\n",
              "      <td>Amenities include a fitness facilities, swimmi...</td>\n",
              "    </tr>\n",
              "    <tr>\n",
              "      <th>99491</th>\n",
              "      <td>This is a brand new 2 Beds 1. five Bathrooms A...</td>\n",
              "    </tr>\n",
              "  </tbody>\n",
              "</table>\n",
              "<p>99492 rows × 1 columns</p>\n",
              "</div><br><label><b>dtype:</b> object</label>"
            ]
          },
          "metadata": {},
          "execution_count": 23
        }
      ]
    },
    {
      "cell_type": "code",
      "source": [
        "feat_list = ['category', 'price_display', 'title', 'source']\n",
        "for f in feat_list:\n",
        "  print(df[f].value_counts())\n",
        "  print(\"-----\")"
      ],
      "metadata": {
        "id": "YPZfkf2IVzdv",
        "colab": {
          "base_uri": "https://localhost:8080/"
        },
        "outputId": "d0e5f249-6f75-4c9c-dddf-a924e8d2cc50"
      },
      "execution_count": null,
      "outputs": [
        {
          "output_type": "stream",
          "name": "stdout",
          "text": [
            "category\n",
            "housing/rent/apartment            99431\n",
            "housing/rent/commercial/retail       42\n",
            "housing/rent                          7\n",
            "housing/rent/home                     4\n",
            "housing/rent/short_term               4\n",
            "housing/rent/condo                    3\n",
            "housing/rent/other                    1\n",
            "Name: count, dtype: int64\n",
            "-----\n",
            "price_display\n",
            "$1,350    574\n",
            "$850      547\n",
            "$1,200    538\n",
            "$950      528\n",
            "$1,100    522\n",
            "         ... \n",
            "$3,319      1\n",
            "$3,828      1\n",
            "$4,069      1\n",
            "$4,163      1\n",
            "$4,326      1\n",
            "Name: count, Length: 3718, dtype: int64\n",
            "-----\n",
            "title\n",
            "Apartment in great location                                              1064\n",
            "Apartment in prime location                                              1028\n",
            "Apartment in quiet area, spacious with big kitchen                       1023\n",
            "Super Cute! Apartment for Rent!                                          1018\n",
            "This Apartment is a must see!                                            1002\n",
            "                                                                         ... \n",
            "$1,078/mo - One BA - come and see this one. 2 Car Garage!                   1\n",
            "Three BR Apartment - Located in the heart of on vibrant Abbot Kinney.       1\n",
            "Bellevue, Great Location, Two BR Apartment.                                 1\n",
            "506 sq. ft. - in a great area.                                              1\n",
            "Large Remodeled Two BR 1. Five BA Apartment Home                            1\n",
            "Name: count, Length: 58503, dtype: int64\n",
            "-----\n",
            "source\n",
            "RentDigs.com         90912\n",
            "RentLingo             6924\n",
            "ListedBuy              571\n",
            "GoSection8             437\n",
            "RealRentals            268\n",
            "tenantcloud            124\n",
            "BostonApartments        94\n",
            "RENTCafé                41\n",
            "Listanza                29\n",
            "SpreadMyAd              22\n",
            "RENTOCULAR              18\n",
            "RentFeeder              12\n",
            "Claz                     8\n",
            "Home Rentals             8\n",
            "Nest Seekers             5\n",
            "vFlyer                   5\n",
            "rentbits                 5\n",
            "Seattle Rentals          2\n",
            "Real Estate Shows        1\n",
            "Real Estate Agent        1\n",
            "Apartable                1\n",
            "Z57                      1\n",
            "FreeAdsTime              1\n",
            "AgentWebsite             1\n",
            "HousesForRent            1\n",
            "Name: count, dtype: int64\n",
            "-----\n"
          ]
        }
      ]
    },
    {
      "cell_type": "code",
      "source": [
        "feat_list2 = ['address', 'currency', 'fee', 'price_type']\n",
        "for f in feat_list2:\n",
        "  print(df[f].value_counts())\n",
        "  print(\"-----\")"
      ],
      "metadata": {
        "id": "-yDS21MUfg_I",
        "colab": {
          "base_uri": "https://localhost:8080/"
        },
        "outputId": "03126a1c-1a2b-47ac-81f8-c82ab9c3b6e6"
      },
      "execution_count": null,
      "outputs": [
        {
          "output_type": "stream",
          "name": "stdout",
          "text": [
            "address\n",
            "8215 S.W 72nd Avenue        19\n",
            "2647 Eastgate Road           8\n",
            "901 Valley View Circle       7\n",
            "700 Watkins Ave              6\n",
            "5903 Danny Kaye Drive        6\n",
            "                            ..\n",
            "191 Hamilton St              1\n",
            "2919 West Avenue             1\n",
            "7228 N Burlington Avenue     1\n",
            "1616 Anthony St              1\n",
            "4507 South Indiana           1\n",
            "Name: count, Length: 7771, dtype: int64\n",
            "-----\n",
            "currency\n",
            "USD    99492\n",
            "Name: count, dtype: int64\n",
            "-----\n",
            "fee\n",
            "No     99291\n",
            "Yes      201\n",
            "Name: count, dtype: int64\n",
            "-----\n",
            "price_type\n",
            "Monthly           99488\n",
            "Weekly                3\n",
            "Monthly|Weekly        1\n",
            "Name: count, dtype: int64\n",
            "-----\n"
          ]
        }
      ]
    },
    {
      "cell_type": "code",
      "source": [
        "#Inicialmente retiramos as colunas que são redundantes ou irrelevantes\n",
        "df.drop(columns=['id','category', 'body', 'price_display', 'title', 'address', 'currency', 'fee', 'source'], inplace=True)\n",
        "\n",
        "# Tratando atributo price_type:\n",
        "df = df[df['price_type'] == 'Monthly'] # Removendo linhas com valores \"Weekly\" e \"Monthly|Weekly\" na coluna price_type\n",
        "df.drop(columns=['price_type'], inplace=True) # Removendo a coluna 'price_type'"
      ],
      "metadata": {
        "id": "L45GlWbhz_Ge",
        "collapsed": true,
        "colab": {
          "base_uri": "https://localhost:8080/"
        },
        "outputId": "2b70b0d8-084e-45f4-f3d5-512cdc852108"
      },
      "execution_count": null,
      "outputs": [
        {
          "output_type": "stream",
          "name": "stderr",
          "text": [
            "<ipython-input-26-f97955108614>:6: SettingWithCopyWarning: \n",
            "A value is trying to be set on a copy of a slice from a DataFrame\n",
            "\n",
            "See the caveats in the documentation: https://pandas.pydata.org/pandas-docs/stable/user_guide/indexing.html#returning-a-view-versus-a-copy\n",
            "  df.drop(columns=['price_type'], inplace=True) # Removendo a coluna 'price_type'\n"
          ]
        }
      ]
    },
    {
      "cell_type": "markdown",
      "source": [
        "# 2. Completude e Redundância de Dados\n",
        "\n"
      ],
      "metadata": {
        "id": "u-IbNQmQ6QlI"
      }
    },
    {
      "cell_type": "markdown",
      "source": [
        "## 2.1. Tratando Dados Ausentes"
      ],
      "metadata": {
        "id": "NaOdt9og6VOf"
      }
    },
    {
      "cell_type": "code",
      "source": [
        "#Verificando valores ausentes\n",
        "print(\"\\nContagem de valores ausentes por coluna:\")\n",
        "print(df.isnull().sum())"
      ],
      "metadata": {
        "id": "otxTkQfY9uxt",
        "colab": {
          "base_uri": "https://localhost:8080/"
        },
        "outputId": "90ef008e-0a24-4ce1-b17a-9b8cedf221ca"
      },
      "execution_count": null,
      "outputs": [
        {
          "output_type": "stream",
          "name": "stdout",
          "text": [
            "\n",
            "Contagem de valores ausentes por coluna:\n",
            "amenities       16044\n",
            "bathrooms          62\n",
            "bedrooms          123\n",
            "has_photo           0\n",
            "pets_allowed    60422\n",
            "price               1\n",
            "square_feet         0\n",
            "cityname          302\n",
            "state             302\n",
            "latitude           25\n",
            "longitude          25\n",
            "time                0\n",
            "dtype: int64\n"
          ]
        }
      ]
    },
    {
      "cell_type": "code",
      "source": [
        "# Removendo as linhas onde a coluna 'latitude' tem valor 'null'\n",
        "df = df.dropna(subset=['latitude'])\n",
        "# Removendo as linhas onde a coluna 'longitude' tem valor 'null'\n",
        "df = df.dropna(subset=['longitude'])\n",
        "# Removendo as linhas onde a coluna 'cityname' tem valor 'null'\n",
        "df = df.dropna(subset=['cityname'])\n",
        "# Removendo as linhas onde a coluna 'state' tem valor 'null'\n",
        "df = df.dropna(subset=['state'])\n",
        "# Removendo as linhas onde a coluna 'price' tem valor 'null'\n",
        "df = df.dropna(subset=['price'])\n",
        "# Substituindo valores nulos na coluna 'bathrooms' por 0\n",
        "df['bathrooms'] = df['bathrooms'].fillna(0)\n",
        "# Substituindo valores nulos na coluna 'bedrooms' por 0\n",
        "df['bedrooms'] = df['bedrooms'].fillna(0)\n",
        "\n",
        "#Verificando o tratamento de valores ausentes\n",
        "print(\"\\nContagem de valores ausentes por coluna:\")\n",
        "print(df.isnull().sum())"
      ],
      "metadata": {
        "id": "Ov7LndPo-c-d",
        "colab": {
          "base_uri": "https://localhost:8080/"
        },
        "outputId": "d44b1a82-cc26-40e1-cc33-c62487257afb"
      },
      "execution_count": null,
      "outputs": [
        {
          "output_type": "stream",
          "name": "stdout",
          "text": [
            "\n",
            "Contagem de valores ausentes por coluna:\n",
            "amenities       15909\n",
            "bathrooms           0\n",
            "bedrooms            0\n",
            "has_photo           0\n",
            "pets_allowed    60249\n",
            "price               0\n",
            "square_feet         0\n",
            "cityname            0\n",
            "state               0\n",
            "latitude            0\n",
            "longitude           0\n",
            "time                0\n",
            "dtype: int64\n"
          ]
        }
      ]
    },
    {
      "cell_type": "markdown",
      "source": [
        "## 2.2. Tratando Instâncias Duplicadas\n",
        "\n"
      ],
      "metadata": {
        "id": "HiuiYgwd76n_"
      }
    },
    {
      "cell_type": "code",
      "source": [
        "# Verificando se existem linhas duplicadas\n",
        "duplicated_rows = df.duplicated().sum()\n",
        "print(f\"Número de linhas duplicadas: {duplicated_rows}\")"
      ],
      "metadata": {
        "id": "HsD5xLwf1_9_",
        "colab": {
          "base_uri": "https://localhost:8080/"
        },
        "outputId": "235e09fd-ffca-46a2-84b2-1e5a43ead25d"
      },
      "execution_count": null,
      "outputs": [
        {
          "output_type": "stream",
          "name": "stdout",
          "text": [
            "Número de linhas duplicadas: 129\n"
          ]
        }
      ]
    },
    {
      "cell_type": "code",
      "source": [
        "# Removendo linhas duplicadas\n",
        "df = df.drop_duplicates()\n",
        "\n",
        "# Verificando novamente se existem linhas duplicadas\n",
        "duplicated_rows_after = df.duplicated().sum()\n",
        "print(f\"Número de linhas duplicadas após remoção: {duplicated_rows_after}\")"
      ],
      "metadata": {
        "id": "ydpVdPCq2X9l",
        "colab": {
          "base_uri": "https://localhost:8080/"
        },
        "outputId": "050cad8d-ed3f-4a68-f390-076c5ee7a3ef"
      },
      "execution_count": null,
      "outputs": [
        {
          "output_type": "stream",
          "name": "stdout",
          "text": [
            "Número de linhas duplicadas após remoção: 0\n"
          ]
        }
      ]
    },
    {
      "cell_type": "markdown",
      "source": [
        "# 3. Dados Estatíticos"
      ],
      "metadata": {
        "id": "IHqLLdnHBmOz"
      }
    },
    {
      "cell_type": "code",
      "source": [
        "# Preço é o atributo alvo\n",
        "feature = 'price'"
      ],
      "metadata": {
        "id": "OEi1u5M3Gy5R"
      },
      "execution_count": null,
      "outputs": []
    },
    {
      "cell_type": "markdown",
      "source": [
        "## 3.1. Medidas de Posição"
      ],
      "metadata": {
        "id": "dS7G73QHBs6S"
      }
    },
    {
      "cell_type": "code",
      "source": [
        "# Média simples\n",
        "feature = 'price'\n",
        "mediaSimples = df[feature].mean()\n",
        "\n",
        "# Moda\n",
        "moda = stats.mode(df[feature],keepdims=True)\n",
        "\n",
        "# Mediana\n",
        "mediana = np.median(df[feature])\n",
        "\n",
        "\n",
        "print('Média Simples: ', mediaSimples)\n",
        "print('Mediana: ', mediana)\n",
        "print('Moda - Elemento: ', moda[0][0])\n",
        "print('Moda - Frequência: ', moda[1][0])"
      ],
      "metadata": {
        "id": "0cOnQRe3gDk5",
        "colab": {
          "base_uri": "https://localhost:8080/"
        },
        "outputId": "0a3e8e4f-a783-496e-d769-1e4ca4472ec0"
      },
      "execution_count": null,
      "outputs": [
        {
          "output_type": "stream",
          "name": "stdout",
          "text": [
            "Média Simples:  1525.5372717452756\n",
            "Mediana:  1350.0\n",
            "Moda - Elemento:  1350.0\n",
            "Moda - Frequência:  572\n"
          ]
        }
      ]
    },
    {
      "cell_type": "code",
      "source": [
        "df['price'].plot(kind='kde')"
      ],
      "metadata": {
        "id": "oMKNIrLYNGTg",
        "colab": {
          "base_uri": "https://localhost:8080/",
          "height": 447
        },
        "outputId": "646ab3cc-8342-4044-fd7b-c29496370b1b"
      },
      "execution_count": null,
      "outputs": [
        {
          "output_type": "execute_result",
          "data": {
            "text/plain": [
              "<Axes: ylabel='Density'>"
            ]
          },
          "metadata": {},
          "execution_count": 20
        },
        {
          "output_type": "display_data",
          "data": {
            "text/plain": [
              "<Figure size 640x480 with 1 Axes>"
            ],
            "image/png": "[encoded data removed]"
          },
          "metadata": {}
        }
      ]
    },
    {
      "cell_type": "code",
      "source": [
        "feat_list3 = ['bathrooms' , 'bedrooms']\n",
        "for f in feat_list3:\n",
        "  print(f'Proporção para a feature {f}: {df[f].mean()}')\n",
        "  print(\"-----\")"
      ],
      "metadata": {
        "id": "rHkna0Rfm6i1",
        "colab": {
          "base_uri": "https://localhost:8080/"
        },
        "outputId": "71889720-efac-4ef6-a6eb-11a4854db00d"
      },
      "execution_count": null,
      "outputs": [
        {
          "output_type": "stream",
          "name": "stdout",
          "text": [
            "Proporção para a feature bathrooms: 1.4444859473429172\n",
            "-----\n",
            "Proporção para a feature bedrooms: 1.726043853981586\n",
            "-----\n"
          ]
        }
      ]
    },
    {
      "cell_type": "markdown",
      "source": [
        "## 3.2. Medidas de Dispersão"
      ],
      "metadata": {
        "id": "JzehWL-GB1-a"
      }
    },
    {
      "cell_type": "markdown",
      "source": [
        "### 3.2.1. Variância, Desvio Padrão e Z-Score\n",
        "\n"
      ],
      "metadata": {
        "id": "9sBiAKSsKNkF"
      }
    },
    {
      "cell_type": "code",
      "source": [
        "# Medidas de dispersão\n",
        "\n",
        "variancia = df[feature].var()\n",
        "desvioPadrao = df[feature].std()\n",
        "\n",
        "print('Variância: ', variancia)\n",
        "print('Desvio Padrão: ', desvioPadrao)\n",
        "print()\n",
        "\n",
        "# cálculo do z-score da feature\n",
        "z = stats.zscore(df[feature])\n",
        "\n",
        "# z-score\n",
        "print('Z-Score')\n",
        "print(z)\n"
      ],
      "metadata": {
        "id": "nBOH7tYohbdr",
        "colab": {
          "base_uri": "https://localhost:8080/"
        },
        "outputId": "f3e3de2d-6058-4cf2-d44e-90ad144e1dc1"
      },
      "execution_count": null,
      "outputs": [
        {
          "output_type": "stream",
          "name": "stdout",
          "text": [
            "Variância:  816233.9039816438\n",
            "Desvio Padrão:  903.4566420042768\n",
            "\n",
            "Z-Score\n",
            "0        0.741005\n",
            "1       -0.304983\n",
            "2       -0.144487\n",
            "3        0.082420\n",
            "4       -0.609371\n",
            "           ...   \n",
            "99487   -0.825210\n",
            "99488   -0.788683\n",
            "99489   -0.221968\n",
            "99490   -0.658073\n",
            "99491    0.076886\n",
            "Name: price, Length: 99056, dtype: float64\n"
          ]
        }
      ]
    },
    {
      "cell_type": "code",
      "source": [
        "sorted(stats.zscore(df['price']).__array__(), reverse=True)"
      ],
      "metadata": {
        "id": "i7RAGm073fy4"
      },
      "execution_count": null,
      "outputs": []
    },
    {
      "cell_type": "markdown",
      "source": [
        "### 3.2.2. Quartis e IQR"
      ],
      "metadata": {
        "id": "MPDqIhQ1IO2t"
      }
    },
    {
      "cell_type": "code",
      "source": [
        "# usando DataFrame\n",
        "Q1df = df[feature].quantile(0.25)\n",
        "Q2df = df[feature].quantile(0.50)\n",
        "Q3df = df[feature].quantile(0.75)\n",
        "print('Q1: ', Q1df)\n",
        "print('Q2: ', Q2df)\n",
        "print('Q3: ', Q3df)\n",
        "\n",
        "IQRdf = Q3df - Q1df\n",
        "print('IQR: ', IQRdf)"
      ],
      "metadata": {
        "id": "eqoZ15YfhiCh",
        "colab": {
          "base_uri": "https://localhost:8080/"
        },
        "outputId": "3ec6cbb3-1318-4c12-a588-2e875f2ffb63"
      },
      "execution_count": null,
      "outputs": [
        {
          "output_type": "stream",
          "name": "stdout",
          "text": [
            "Q1:  1012.0\n",
            "Q2:  1350.0\n",
            "Q3:  1795.0\n",
            "IQR:  783.0\n"
          ]
        }
      ]
    },
    {
      "cell_type": "code",
      "source": [
        "# IQR\n",
        "print(stats.iqr(df[feature]))"
      ],
      "metadata": {
        "id": "RKS2PtlniBnO",
        "colab": {
          "base_uri": "https://localhost:8080/"
        },
        "outputId": "109ab979-454c-42ca-ba01-d5f35dd86dfa"
      },
      "execution_count": null,
      "outputs": [
        {
          "output_type": "stream",
          "name": "stdout",
          "text": [
            "783.0\n"
          ]
        }
      ]
    },
    {
      "cell_type": "markdown",
      "source": [
        "### 3.2.3. Outliers"
      ],
      "metadata": {
        "id": "ORUFzkyYLj3r"
      }
    },
    {
      "cell_type": "code",
      "source": [
        "boxplot = df.boxplot(column=feature)"
      ],
      "metadata": {
        "id": "GUraYtw3h9AA",
        "colab": {
          "base_uri": "https://localhost:8080/",
          "height": 430
        },
        "outputId": "aaa64eb9-b79b-4db6-d2e0-a5279e1039fb"
      },
      "execution_count": null,
      "outputs": [
        {
          "output_type": "display_data",
          "data": {
            "text/plain": [
              "<Figure size 640x480 with 1 Axes>"
            ],
            "image/png": "[encoded data removed]"
          },
          "metadata": {}
        }
      ]
    },
    {
      "cell_type": "code",
      "source": [
        "# Limite Inferior\n",
        "Inferior = Q1df - 1.5 * IQRdf\n",
        "print('Limite Inferior: ', Inferior)\n",
        "\n",
        "# Ouliers - Inferior\n",
        "outlierInf = df.loc[df[feature] <= Inferior]\n",
        "indicesOutlierInf = outlierInf.index\n",
        "print('Ouliers - Inferior')\n",
        "print(df[feature].loc[indicesOutlierInf])\n",
        "\n",
        "# Limite Superior\n",
        "Superior = Q3df + 1.5 * IQRdf\n",
        "print('Limite Superior: ', Superior)\n",
        "\n",
        "# Outliers - Superior\n",
        "outlierSup = df.loc[df[feature] >= Superior]\n",
        "indicesOutlierSup = outlierSup.index\n",
        "\n",
        "print('Outliers - Superior')\n",
        "print(df[feature].loc[indicesOutlierSup])"
      ],
      "metadata": {
        "id": "w_TuAfGDiNJ4",
        "colab": {
          "base_uri": "https://localhost:8080/"
        },
        "outputId": "4e1799e4-fc5f-440b-b62a-eb027507b7f4"
      },
      "execution_count": null,
      "outputs": [
        {
          "output_type": "stream",
          "name": "stdout",
          "text": [
            "Limite Inferior:  -162.5\n",
            "Ouliers - Inferior\n",
            "Series([], Name: price, dtype: float64)\n",
            "Limite Superior:  2969.5\n",
            "Outliers - Superior\n",
            "11       3195.0\n",
            "13       7800.0\n",
            "28       3250.0\n",
            "38       4500.0\n",
            "39       3990.0\n",
            "          ...  \n",
            "99469    4326.0\n",
            "99471    3200.0\n",
            "99480    4495.0\n",
            "99483    3200.0\n",
            "99485    4395.0\n",
            "Name: price, Length: 4619, dtype: float64\n"
          ]
        }
      ]
    },
    {
      "cell_type": "markdown",
      "source": [
        "Observando o boxplot e os calculados nos quartis, 50 % dos valores se concentram entre 1012.0 (primeiro quartil) e 1795.0 (terceiro quartil). No gráfico, identificamos que uma quantidade razoavelmente grande dos dados mostrados são considerados outliers, estando acima da medida de máximo definida no boxplot (sendo Limite Superior = Q3df + 1.5 * IQRdf). Dessa forma, pensamos que seria inadequado simplesmente assumir que todos esses valores são outliers e eliminá-los do dataset. Numa etapa futura em que usaremos os dados para o treinamento do modelo, planejamos realizar testes com e sem esses dados para identificarmos o melhor modelo, mas por enquanto vamos definir o teto como um 99-percentil, e definindo que os valores acima deste teto seriam outliers."
      ],
      "metadata": {
        "id": "VvDJ6CwQ9GqB"
      }
    },
    {
      "cell_type": "code",
      "source": [
        "Q4df = np.quantile(df[feature], 0.95)\n",
        "print('Q4: ', Q4df)\n",
        "\n",
        "IQRdf = Q3df - Q1df\n",
        "\n",
        "Superior = Q4df + 1.5 * IQRdf\n",
        "print('Limite Superior: ', Superior)\n",
        "\n",
        "# Outliers - Superior\n",
        "outlierSup = df.loc[df[feature] >= Superior]\n",
        "indicesOutlierSup = outlierSup.index\n",
        "\n",
        "print('Outliers - Superior')\n",
        "print(df[feature].loc[indicesOutlierSup])"
      ],
      "metadata": {
        "id": "mooFfi8aFUSO",
        "colab": {
          "base_uri": "https://localhost:8080/"
        },
        "outputId": "dc109fb0-eb12-407c-c268-b179e23f4947"
      },
      "execution_count": null,
      "outputs": [
        {
          "output_type": "stream",
          "name": "stdout",
          "text": [
            "Q4:  2914.0\n",
            "Limite Superior:  4088.5\n",
            "Outliers - Superior\n",
            "13       7800.0\n",
            "38       4500.0\n",
            "42       4950.0\n",
            "43       4950.0\n",
            "90       6500.0\n",
            "          ...  \n",
            "98891    4595.0\n",
            "99439    4200.0\n",
            "99469    4326.0\n",
            "99480    4495.0\n",
            "99485    4395.0\n",
            "Name: price, Length: 1165, dtype: float64\n"
          ]
        }
      ]
    },
    {
      "cell_type": "markdown",
      "source": [
        "# 4. Remoção de Outliers\n",
        "\n"
      ],
      "metadata": {
        "id": "qMwl_7A1NGTf"
      }
    },
    {
      "cell_type": "code",
      "source": [
        "# Print the updated DataFrame\n",
        "print(f\"Antes de tirar os outliers: {df.shape}\")\n",
        "\n",
        "# Calculate the Z-score for the 'price' column\n",
        "df['z_score_price'] = np.abs(stats.zscore(df['price']))\n",
        "\n",
        "# Remove instances with a Z-score greater than or equal to 3\n",
        "df = df[df['z_score_price'] < 3]\n",
        "\n",
        "# Drop the 'z_score_price' column if you no longer need it\n",
        "df.drop(columns=['z_score_price'], inplace=True)\n",
        "\n",
        "# Print the updated DataFrame\n",
        "print(f\"Depois de tirar os outliers: {df.shape}\")"
      ],
      "metadata": {
        "colab": {
          "base_uri": "https://localhost:8080/"
        },
        "id": "obHliFk52GFx",
        "outputId": "ff0ff57c-3d74-4830-9957-93797d481d16"
      },
      "execution_count": null,
      "outputs": [
        {
          "output_type": "stream",
          "name": "stdout",
          "text": [
            "Antes de tirar os outliers: (99056, 12)\n",
            "Depois de tirar os outliers: (98058, 12)\n"
          ]
        },
        {
          "output_type": "stream",
          "name": "stderr",
          "text": [
            "<ipython-input-31-b87879c5d41a>:13: SettingWithCopyWarning: \n",
            "A value is trying to be set on a copy of a slice from a DataFrame\n",
            "\n",
            "See the caveats in the documentation: https://pandas.pydata.org/pandas-docs/stable/user_guide/indexing.html#returning-a-view-versus-a-copy\n",
            "  df.drop(columns=['z_score_price'], inplace=True)\n"
          ]
        }
      ]
    },
    {
      "cell_type": "code",
      "source": [
        "# Verificando o tamanho do DataFrame antes da remoção dos outliers\n",
        "print(f'Tamanho do DataFrame com outliers: {df.shape}')\n",
        "\n",
        "# Identificando os índices dos outliers\n",
        "outlier_indices = df[(df[feature] <= Inferior) | (df[feature] >= Superior)].index\n",
        "\n",
        "# Removendo os outliers diretamente do DataFrame original\n",
        "df.drop(outlier_indices, inplace=True)\n",
        "\n",
        "# Verificando o tamanho do DataFrame após a remoção dos outliers\n",
        "print(f'Tamanho do DataFrame sem outliers: {df.shape}')"
      ],
      "metadata": {
        "id": "6yttCd-48ovj",
        "colab": {
          "base_uri": "https://localhost:8080/"
        },
        "outputId": "b388a800-2fb5-4fe4-da71-f5af9c0acadf"
      },
      "execution_count": null,
      "outputs": [
        {
          "output_type": "stream",
          "name": "stdout",
          "text": [
            "Tamanho do DataFrame com outliers: (99056, 12)\n",
            "Tamanho do DataFrame sem outliers: (97891, 12)\n"
          ]
        }
      ]
    },
    {
      "cell_type": "markdown",
      "source": [
        "# 5. Transformação dos Dados"
      ],
      "metadata": {
        "id": "OJnYHVLn9lgF"
      }
    },
    {
      "cell_type": "markdown",
      "source": [
        "## 5.1. Tratamento das Colunas"
      ],
      "metadata": {
        "id": "-Yd313Yu_A_c"
      }
    },
    {
      "cell_type": "markdown",
      "source": [
        "### 5.1.1 Coluna amenities"
      ],
      "metadata": {
        "id": "6cLZkygl_MZE"
      }
    },
    {
      "cell_type": "code",
      "source": [
        "#Função usando o get_dummies para criar os dummmies através da vírgula\n",
        "def make_dummies(df, col, remove=True):\n",
        "    df[col] = df[col].str.strip()\n",
        "    df = pd.concat([df, df[col].str.get_dummies(sep=',')], axis=1)\n",
        "    if remove==True:\n",
        "        df = df.drop([col], axis=1)\n",
        "    return df"
      ],
      "metadata": {
        "id": "A_2E0H7jJbu1"
      },
      "execution_count": null,
      "outputs": []
    },
    {
      "cell_type": "code",
      "source": [
        "#Resolver o amenities\n",
        "\n",
        "df = make_dummies(df, 'amenities')\n",
        "df.head()"
      ],
      "metadata": {
        "id": "5j37xmXEDP0K",
        "colab": {
          "base_uri": "https://localhost:8080/",
          "height": 307
        },
        "outputId": "cfbe44ee-81cf-41ab-e29f-56860ea8ed44"
      },
      "execution_count": null,
      "outputs": [
        {
          "output_type": "execute_result",
          "data": {
            "text/plain": [
              "   bathrooms  bedrooms  has_photo pets_allowed   price  square_feet  \\\n",
              "0        1.0       1.0  Thumbnail         Cats  2195.0          542   \n",
              "1        1.5       3.0  Thumbnail    Cats,Dogs  1250.0         1500   \n",
              "2        2.0       3.0  Thumbnail          NaN  1395.0         1650   \n",
              "3        1.0       2.0  Thumbnail    Cats,Dogs  1600.0          820   \n",
              "4        1.0       1.0  Thumbnail    Cats,Dogs   975.0          624   \n",
              "\n",
              "        cityname state  latitude  longitude  ...  Patio/Deck  Playground  \\\n",
              "0  Redondo Beach    CA   33.8520  -118.3759  ...           0           0   \n",
              "1   Newport News    VA   37.0867   -76.4941  ...           0           0   \n",
              "2        Raleigh    NC   35.8230   -78.6438  ...           0           0   \n",
              "3      Vacaville    CA   38.3622  -121.9712  ...           0           0   \n",
              "4    Albuquerque    NM   35.1038  -106.6110  ...           0           0   \n",
              "\n",
              "   Pool  Refrigerator  Storage  TV  Tennis  View  Washer Dryer  Wood Floors  \n",
              "0     0             0        0   0       0     0             0            0  \n",
              "1     0             0        0   0       0     0             0            0  \n",
              "2     0             0        0   0       0     0             0            0  \n",
              "3     0             0        0   0       0     0             0            0  \n",
              "4     0             0        0   0       0     0             0            0  \n",
              "\n",
              "[5 rows x 38 columns]"
            ],
            "text/html": [
              "\n",
              "  <div id=\"df-b3fef7b1-eb65-4766-9391-46d3cf27a6da\" class=\"colab-df-container\">\n",
              "    <div>\n",
              "<style scoped>\n",
              "    .dataframe tbody tr th:only-of-type {\n",
              "        vertical-align: middle;\n",
              "    }\n",
              "\n",
              "    .dataframe tbody tr th {\n",
              "        vertical-align: top;\n",
              "    }\n",
              "\n",
              "    .dataframe thead th {\n",
              "        text-align: right;\n",
              "    }\n",
              "</style>\n",
              "<table border=\"1\" class=\"dataframe\">\n",
              "  <thead>\n",
              "    <tr style=\"text-align: right;\">\n",
              "      <th></th>\n",
              "      <th>bathrooms</th>\n",
              "      <th>bedrooms</th>\n",
              "      <th>has_photo</th>\n",
              "      <th>pets_allowed</th>\n",
              "      <th>price</th>\n",
              "      <th>square_feet</th>\n",
              "      <th>cityname</th>\n",
              "      <th>state</th>\n",
              "      <th>latitude</th>\n",
              "      <th>longitude</th>\n",
              "      <th>...</th>\n",
              "      <th>Patio/Deck</th>\n",
              "      <th>Playground</th>\n",
              "      <th>Pool</th>\n",
              "      <th>Refrigerator</th>\n",
              "      <th>Storage</th>\n",
              "      <th>TV</th>\n",
              "      <th>Tennis</th>\n",
              "      <th>View</th>\n",
              "      <th>Washer Dryer</th>\n",
              "      <th>Wood Floors</th>\n",
              "    </tr>\n",
              "  </thead>\n",
              "  <tbody>\n",
              "    <tr>\n",
              "      <th>0</th>\n",
              "      <td>1.0</td>\n",
              "      <td>1.0</td>\n",
              "      <td>Thumbnail</td>\n",
              "      <td>Cats</td>\n",
              "      <td>2195.0</td>\n",
              "      <td>542</td>\n",
              "      <td>Redondo Beach</td>\n",
              "      <td>CA</td>\n",
              "      <td>33.8520</td>\n",
              "      <td>-118.3759</td>\n",
              "      <td>...</td>\n",
              "      <td>0</td>\n",
              "      <td>0</td>\n",
              "      <td>0</td>\n",
              "      <td>0</td>\n",
              "      <td>0</td>\n",
              "      <td>0</td>\n",
              "      <td>0</td>\n",
              "      <td>0</td>\n",
              "      <td>0</td>\n",
              "      <td>0</td>\n",
              "    </tr>\n",
              "    <tr>\n",
              "      <th>1</th>\n",
              "      <td>1.5</td>\n",
              "      <td>3.0</td>\n",
              "      <td>Thumbnail</td>\n",
              "      <td>Cats,Dogs</td>\n",
              "      <td>1250.0</td>\n",
              "      <td>1500</td>\n",
              "      <td>Newport News</td>\n",
              "      <td>VA</td>\n",
              "      <td>37.0867</td>\n",
              "      <td>-76.4941</td>\n",
              "      <td>...</td>\n",
              "      <td>0</td>\n",
              "      <td>0</td>\n",
              "      <td>0</td>\n",
              "      <td>0</td>\n",
              "      <td>0</td>\n",
              "      <td>0</td>\n",
              "      <td>0</td>\n",
              "      <td>0</td>\n",
              "      <td>0</td>\n",
              "      <td>0</td>\n",
              "    </tr>\n",
              "    <tr>\n",
              "      <th>2</th>\n",
              "      <td>2.0</td>\n",
              "      <td>3.0</td>\n",
              "      <td>Thumbnail</td>\n",
              "      <td>NaN</td>\n",
              "      <td>1395.0</td>\n",
              "      <td>1650</td>\n",
              "      <td>Raleigh</td>\n",
              "      <td>NC</td>\n",
              "      <td>35.8230</td>\n",
              "      <td>-78.6438</td>\n",
              "      <td>...</td>\n",
              "      <td>0</td>\n",
              "      <td>0</td>\n",
              "      <td>0</td>\n",
              "      <td>0</td>\n",
              "      <td>0</td>\n",
              "      <td>0</td>\n",
              "      <td>0</td>\n",
              "      <td>0</td>\n",
              "      <td>0</td>\n",
              "      <td>0</td>\n",
              "    </tr>\n",
              "    <tr>\n",
              "      <th>3</th>\n",
              "      <td>1.0</td>\n",
              "      <td>2.0</td>\n",
              "      <td>Thumbnail</td>\n",
              "      <td>Cats,Dogs</td>\n",
              "      <td>1600.0</td>\n",
              "      <td>820</td>\n",
              "      <td>Vacaville</td>\n",
              "      <td>CA</td>\n",
              "      <td>38.3622</td>\n",
              "      <td>-121.9712</td>\n",
              "      <td>...</td>\n",
              "      <td>0</td>\n",
              "      <td>0</td>\n",
              "      <td>0</td>\n",
              "      <td>0</td>\n",
              "      <td>0</td>\n",
              "      <td>0</td>\n",
              "      <td>0</td>\n",
              "      <td>0</td>\n",
              "      <td>0</td>\n",
              "      <td>0</td>\n",
              "    </tr>\n",
              "    <tr>\n",
              "      <th>4</th>\n",
              "      <td>1.0</td>\n",
              "      <td>1.0</td>\n",
              "      <td>Thumbnail</td>\n",
              "      <td>Cats,Dogs</td>\n",
              "      <td>975.0</td>\n",
              "      <td>624</td>\n",
              "      <td>Albuquerque</td>\n",
              "      <td>NM</td>\n",
              "      <td>35.1038</td>\n",
              "      <td>-106.6110</td>\n",
              "      <td>...</td>\n",
              "      <td>0</td>\n",
              "      <td>0</td>\n",
              "      <td>0</td>\n",
              "      <td>0</td>\n",
              "      <td>0</td>\n",
              "      <td>0</td>\n",
              "      <td>0</td>\n",
              "      <td>0</td>\n",
              "      <td>0</td>\n",
              "      <td>0</td>\n",
              "    </tr>\n",
              "  </tbody>\n",
              "</table>\n",
              "<p>5 rows × 38 columns</p>\n",
              "</div>\n",
              "    <div class=\"colab-df-buttons\">\n",
              "\n",
              "  <div class=\"colab-df-container\">\n",
              "    <button class=\"colab-df-convert\" onclick=\"convertToInteractive('df-b3fef7b1-eb65-4766-9391-46d3cf27a6da')\"\n",
              "            title=\"Convert this dataframe to an interactive table.\"\n",
              "            style=\"display:none;\">\n",
              "\n",
              "  <svg xmlns=\"http://www.w3.org/2000/svg\" height=\"24px\" viewBox=\"0 -960 960 960\">\n",
              "    <path d=\"M120-120v-720h720v720H120Zm60-500h600v-160H180v160Zm220 220h160v-160H400v160Zm0 220h160v-160H400v160ZM180-400h160v-160H180v160Zm440 0h160v-160H620v160ZM180-180h160v-160H180v160Zm440 0h160v-160H620v160Z\"/>\n",
              "  </svg>\n",
              "    </button>\n",
              "\n",
              "  <style>\n",
              "    .colab-df-container {\n",
              "      display:flex;\n",
              "      gap: 12px;\n",
              "    }\n",
              "\n",
              "    .colab-df-convert {\n",
              "      background-color: #E8F0FE;\n",
              "      border: none;\n",
              "      border-radius: 50%;\n",
              "      cursor: pointer;\n",
              "      display: none;\n",
              "      fill: #1967D2;\n",
              "      height: 32px;\n",
              "      padding: 0 0 0 0;\n",
              "      width: 32px;\n",
              "    }\n",
              "\n",
              "    .colab-df-convert:hover {\n",
              "      background-color: #E2EBFA;\n",
              "      box-shadow: 0px 1px 2px rgba(60, 64, 67, 0.3), 0px 1px 3px 1px rgba(60, 64, 67, 0.15);\n",
              "      fill: #174EA6;\n",
              "    }\n",
              "\n",
              "    .colab-df-buttons div {\n",
              "      margin-bottom: 4px;\n",
              "    }\n",
              "\n",
              "    [theme=dark] .colab-df-convert {\n",
              "      background-color: #3B4455;\n",
              "      fill: #D2E3FC;\n",
              "    }\n",
              "\n",
              "    [theme=dark] .colab-df-convert:hover {\n",
              "      background-color: #434B5C;\n",
              "      box-shadow: 0px 1px 3px 1px rgba(0, 0, 0, 0.15);\n",
              "      filter: drop-shadow(0px 1px 2px rgba(0, 0, 0, 0.3));\n",
              "      fill: #FFFFFF;\n",
              "    }\n",
              "  </style>\n",
              "\n",
              "    <script>\n",
              "      const buttonEl =\n",
              "        document.querySelector('#df-b3fef7b1-eb65-4766-9391-46d3cf27a6da button.colab-df-convert');\n",
              "      buttonEl.style.display =\n",
              "        google.colab.kernel.accessAllowed ? 'block' : 'none';\n",
              "\n",
              "      async function convertToInteractive(key) {\n",
              "        const element = document.querySelector('#df-b3fef7b1-eb65-4766-9391-46d3cf27a6da');\n",
              "        const dataTable =\n",
              "          await google.colab.kernel.invokeFunction('convertToInteractive',\n",
              "                                                    [key], {});\n",
              "        if (!dataTable) return;\n",
              "\n",
              "        const docLinkHtml = 'Like what you see? Visit the ' +\n",
              "          '<a target=\"_blank\" href=https://colab.research.google.com/notebooks/data_table.ipynb>data table notebook</a>'\n",
              "          + ' to learn more about interactive tables.';\n",
              "        element.innerHTML = '';\n",
              "        dataTable['output_type'] = 'display_data';\n",
              "        await google.colab.output.renderOutput(dataTable, element);\n",
              "        const docLink = document.createElement('div');\n",
              "        docLink.innerHTML = docLinkHtml;\n",
              "        element.appendChild(docLink);\n",
              "      }\n",
              "    </script>\n",
              "  </div>\n",
              "\n",
              "\n",
              "<div id=\"df-dbf55638-4b41-46b2-88cd-a44ba6d7b897\">\n",
              "  <button class=\"colab-df-quickchart\" onclick=\"quickchart('df-dbf55638-4b41-46b2-88cd-a44ba6d7b897')\"\n",
              "            title=\"Suggest charts\"\n",
              "            style=\"display:none;\">\n",
              "\n",
              "<svg xmlns=\"http://www.w3.org/2000/svg\" height=\"24px\"viewBox=\"0 0 24 24\"\n",
              "     width=\"24px\">\n",
              "    <g>\n",
              "        <path d=\"M19 3H5c-1.1 0-2 .9-2 2v14c0 1.1.9 2 2 2h14c1.1 0 2-.9 2-2V5c0-1.1-.9-2-2-2zM9 17H7v-7h2v7zm4 0h-2V7h2v10zm4 0h-2v-4h2v4z\"/>\n",
              "    </g>\n",
              "</svg>\n",
              "  </button>\n",
              "\n",
              "<style>\n",
              "  .colab-df-quickchart {\n",
              "      --bg-color: #E8F0FE;\n",
              "      --fill-color: #1967D2;\n",
              "      --hover-bg-color: #E2EBFA;\n",
              "      --hover-fill-color: #174EA6;\n",
              "      --disabled-fill-color: #AAA;\n",
              "      --disabled-bg-color: #DDD;\n",
              "  }\n",
              "\n",
              "  [theme=dark] .colab-df-quickchart {\n",
              "      --bg-color: #3B4455;\n",
              "      --fill-color: #D2E3FC;\n",
              "      --hover-bg-color: #434B5C;\n",
              "      --hover-fill-color: #FFFFFF;\n",
              "      --disabled-bg-color: #3B4455;\n",
              "      --disabled-fill-color: #666;\n",
              "  }\n",
              "\n",
              "  .colab-df-quickchart {\n",
              "    background-color: var(--bg-color);\n",
              "    border: none;\n",
              "    border-radius: 50%;\n",
              "    cursor: pointer;\n",
              "    display: none;\n",
              "    fill: var(--fill-color);\n",
              "    height: 32px;\n",
              "    padding: 0;\n",
              "    width: 32px;\n",
              "  }\n",
              "\n",
              "  .colab-df-quickchart:hover {\n",
              "    background-color: var(--hover-bg-color);\n",
              "    box-shadow: 0 1px 2px rgba(60, 64, 67, 0.3), 0 1px 3px 1px rgba(60, 64, 67, 0.15);\n",
              "    fill: var(--button-hover-fill-color);\n",
              "  }\n",
              "\n",
              "  .colab-df-quickchart-complete:disabled,\n",
              "  .colab-df-quickchart-complete:disabled:hover {\n",
              "    background-color: var(--disabled-bg-color);\n",
              "    fill: var(--disabled-fill-color);\n",
              "    box-shadow: none;\n",
              "  }\n",
              "\n",
              "  .colab-df-spinner {\n",
              "    border: 2px solid var(--fill-color);\n",
              "    border-color: transparent;\n",
              "    border-bottom-color: var(--fill-color);\n",
              "    animation:\n",
              "      spin 1s steps(1) infinite;\n",
              "  }\n",
              "\n",
              "  @keyframes spin {\n",
              "    0% {\n",
              "      border-color: transparent;\n",
              "      border-bottom-color: var(--fill-color);\n",
              "      border-left-color: var(--fill-color);\n",
              "    }\n",
              "    20% {\n",
              "      border-color: transparent;\n",
              "      border-left-color: var(--fill-color);\n",
              "      border-top-color: var(--fill-color);\n",
              "    }\n",
              "    30% {\n",
              "      border-color: transparent;\n",
              "      border-left-color: var(--fill-color);\n",
              "      border-top-color: var(--fill-color);\n",
              "      border-right-color: var(--fill-color);\n",
              "    }\n",
              "    40% {\n",
              "      border-color: transparent;\n",
              "      border-right-color: var(--fill-color);\n",
              "      border-top-color: var(--fill-color);\n",
              "    }\n",
              "    60% {\n",
              "      border-color: transparent;\n",
              "      border-right-color: var(--fill-color);\n",
              "    }\n",
              "    80% {\n",
              "      border-color: transparent;\n",
              "      border-right-color: var(--fill-color);\n",
              "      border-bottom-color: var(--fill-color);\n",
              "    }\n",
              "    90% {\n",
              "      border-color: transparent;\n",
              "      border-bottom-color: var(--fill-color);\n",
              "    }\n",
              "  }\n",
              "</style>\n",
              "\n",
              "  <script>\n",
              "    async function quickchart(key) {\n",
              "      const quickchartButtonEl =\n",
              "        document.querySelector('#' + key + ' button');\n",
              "      quickchartButtonEl.disabled = true;  // To prevent multiple clicks.\n",
              "      quickchartButtonEl.classList.add('colab-df-spinner');\n",
              "      try {\n",
              "        const charts = await google.colab.kernel.invokeFunction(\n",
              "            'suggestCharts', [key], {});\n",
              "      } catch (error) {\n",
              "        console.error('Error during call to suggestCharts:', error);\n",
              "      }\n",
              "      quickchartButtonEl.classList.remove('colab-df-spinner');\n",
              "      quickchartButtonEl.classList.add('colab-df-quickchart-complete');\n",
              "    }\n",
              "    (() => {\n",
              "      let quickchartButtonEl =\n",
              "        document.querySelector('#df-dbf55638-4b41-46b2-88cd-a44ba6d7b897 button');\n",
              "      quickchartButtonEl.style.display =\n",
              "        google.colab.kernel.accessAllowed ? 'block' : 'none';\n",
              "    })();\n",
              "  </script>\n",
              "</div>\n",
              "\n",
              "    </div>\n",
              "  </div>\n"
            ],
            "application/vnd.google.colaboratory.intrinsic+json": {
              "type": "dataframe",
              "variable_name": "df"
            }
          },
          "metadata": {},
          "execution_count": 36
        }
      ]
    },
    {
      "cell_type": "markdown",
      "source": [
        "### 5.1.2 Coluna pets_allowed"
      ],
      "metadata": {
        "id": "qo0X3FHs_hge"
      }
    },
    {
      "cell_type": "code",
      "source": [
        "# Criando duas novas colunas 'dogs' e 'cats' com o valor padrão 0\n",
        "df['dogs'] = 0\n",
        "df['cats'] = 0\n",
        "\n",
        "# Substituindo 0 por 1 nas colunas 'cats' e 'dogs' onde 'pets_allowed' é \"Cats,Dogs\"\n",
        "df.loc[df['pets_allowed'] == 'Cats,Dogs', ['cats', 'dogs']] = 1\n",
        "\n",
        "# Substituindo 0 por 1 na coluna 'cats' onde 'pets_allowed' é \"Cats\"\n",
        "df.loc[df['pets_allowed'] == 'Cats', ['cats']] = 1\n",
        "\n",
        "# Substituindo 0 por 1 nas colunas 'dogs' onde 'pets_allowed' é \"Dogs\"\n",
        "df.loc[df['pets_allowed'] == 'Dogs', ['dogs']] = 1\n",
        "\n",
        "# Removendo coluna 'pets_allowed'\n",
        "df.drop(columns=['pets_allowed'], inplace=True)"
      ],
      "metadata": {
        "id": "KmEePdHtGw42"
      },
      "execution_count": null,
      "outputs": []
    },
    {
      "cell_type": "markdown",
      "source": [
        "### 5.1.3 Coluna has_photo"
      ],
      "metadata": {
        "id": "J1lj0jsB_sdL"
      }
    },
    {
      "cell_type": "code",
      "source": [
        "#Categorizando a coluna de fotos\n",
        "df[\"has_photo\"] = df[\"has_photo\"].replace([\"No\"], 0)\n",
        "df[\"has_photo\"] = df[\"has_photo\"].replace([\"Thumbnail\"], 1)\n",
        "df[\"has_photo\"] = df[\"has_photo\"].replace([\"Yes\"], 2)"
      ],
      "metadata": {
        "id": "7BNowlJFMVV2",
        "colab": {
          "base_uri": "https://localhost:8080/"
        },
        "outputId": "c6109038-89f8-4449-bba7-10c45aeea08c"
      },
      "execution_count": null,
      "outputs": [
        {
          "output_type": "stream",
          "name": "stderr",
          "text": [
            "<ipython-input-38-1d57dbe0688f>:4: FutureWarning: Downcasting behavior in `replace` is deprecated and will be removed in a future version. To retain the old behavior, explicitly call `result.infer_objects(copy=False)`. To opt-in to the future behavior, set `pd.set_option('future.no_silent_downcasting', True)`\n",
            "  df[\"has_photo\"] = df[\"has_photo\"].replace([\"Yes\"], 2)\n"
          ]
        }
      ]
    },
    {
      "cell_type": "markdown",
      "source": [
        "###5.1.4 Colunas longitude e latitude"
      ],
      "metadata": {
        "id": "D43K6PJjajvq"
      }
    },
    {
      "cell_type": "code",
      "source": [
        "import sklearn\n",
        "\n",
        "#Descomente o scaler desejado\n",
        "#scaler = sklearn.MinMaxScaler()\n",
        "#scaler = sklearn.RobustScaler()\n",
        "#df[['latitude', 'longitude']] = scaler.fit_transform(df[['latitude', 'longitude']])"
      ],
      "metadata": {
        "id": "t3r3ZaCRavIo"
      },
      "execution_count": null,
      "outputs": []
    },
    {
      "cell_type": "markdown",
      "source": [
        "# 6. Mostrando o resultado final"
      ],
      "metadata": {
        "id": "qEUQe6vUN-6B"
      }
    },
    {
      "cell_type": "code",
      "source": [
        "plt.hist(df[feature], align='left', bins=17, rwidth=0.9)\n",
        "plt.savefig('a.png')\n",
        "plt.show()"
      ],
      "metadata": {
        "id": "qnZzP8KrNGTg",
        "colab": {
          "base_uri": "https://localhost:8080/"
        },
        "outputId": "8a0a20db-7907-4197-8025-6adf5f7e7d86"
      },
      "execution_count": null,
      "outputs": [
        {
          "output_type": "display_data",
          "data": {
            "text/plain": [
              "<Figure size 640x480 with 1 Axes>"
            ],
            "image/png": "[encoded data removed]"
          },
          "metadata": {}
        }
      ]
    },
    {
      "cell_type": "code",
      "source": [
        "# ver numero de instâncias por atributo\n",
        "df.count()"
      ],
      "metadata": {
        "id": "L5lW2U2uNGTh",
        "colab": {
          "base_uri": "https://localhost:8080/",
          "height": 1000
        },
        "outputId": "26066684-56b3-4bb2-ee7e-c021c0cac835"
      },
      "execution_count": null,
      "outputs": [
        {
          "output_type": "execute_result",
          "data": {
            "text/plain": [
              "bathrooms             98058\n",
              "bedrooms              98058\n",
              "has_photo             98058\n",
              "price                 98058\n",
              "square_feet           98058\n",
              "cityname              98058\n",
              "state                 98058\n",
              "latitude              98058\n",
              "longitude             98058\n",
              "time                  98058\n",
              "AC                    98058\n",
              "Alarm                 98058\n",
              "Basketball            98058\n",
              "Cable or Satellite    98058\n",
              "Clubhouse             98058\n",
              "Dishwasher            98058\n",
              "Doorman               98058\n",
              "Elevator              98058\n",
              "Fireplace             98058\n",
              "Garbage Disposal      98058\n",
              "Gated                 98058\n",
              "Golf                  98058\n",
              "Gym                   98058\n",
              "Hot Tub               98058\n",
              "Internet Access       98058\n",
              "Luxury                98058\n",
              "Parking               98058\n",
              "Patio/Deck            98058\n",
              "Playground            98058\n",
              "Pool                  98058\n",
              "Refrigerator          98058\n",
              "Storage               98058\n",
              "TV                    98058\n",
              "Tennis                98058\n",
              "View                  98058\n",
              "Washer Dryer          98058\n",
              "Wood Floors           98058\n",
              "dogs                  98058\n",
              "cats                  98058\n",
              "dtype: int64"
            ],
            "text/html": [
              "<div>\n",
              "<style scoped>\n",
              "    .dataframe tbody tr th:only-of-type {\n",
              "        vertical-align: middle;\n",
              "    }\n",
              "\n",
              "    .dataframe tbody tr th {\n",
              "        vertical-align: top;\n",
              "    }\n",
              "\n",
              "    .dataframe thead th {\n",
              "        text-align: right;\n",
              "    }\n",
              "</style>\n",
              "<table border=\"1\" class=\"dataframe\">\n",
              "  <thead>\n",
              "    <tr style=\"text-align: right;\">\n",
              "      <th></th>\n",
              "      <th>0</th>\n",
              "    </tr>\n",
              "  </thead>\n",
              "  <tbody>\n",
              "    <tr>\n",
              "      <th>bathrooms</th>\n",
              "      <td>98058</td>\n",
              "    </tr>\n",
              "    <tr>\n",
              "      <th>bedrooms</th>\n",
              "      <td>98058</td>\n",
              "    </tr>\n",
              "    <tr>\n",
              "      <th>has_photo</th>\n",
              "      <td>98058</td>\n",
              "    </tr>\n",
              "    <tr>\n",
              "      <th>price</th>\n",
              "      <td>98058</td>\n",
              "    </tr>\n",
              "    <tr>\n",
              "      <th>square_feet</th>\n",
              "      <td>98058</td>\n",
              "    </tr>\n",
              "    <tr>\n",
              "      <th>cityname</th>\n",
              "      <td>98058</td>\n",
              "    </tr>\n",
              "    <tr>\n",
              "      <th>state</th>\n",
              "      <td>98058</td>\n",
              "    </tr>\n",
              "    <tr>\n",
              "      <th>latitude</th>\n",
              "      <td>98058</td>\n",
              "    </tr>\n",
              "    <tr>\n",
              "      <th>longitude</th>\n",
              "      <td>98058</td>\n",
              "    </tr>\n",
              "    <tr>\n",
              "      <th>time</th>\n",
              "      <td>98058</td>\n",
              "    </tr>\n",
              "    <tr>\n",
              "      <th>AC</th>\n",
              "      <td>98058</td>\n",
              "    </tr>\n",
              "    <tr>\n",
              "      <th>Alarm</th>\n",
              "      <td>98058</td>\n",
              "    </tr>\n",
              "    <tr>\n",
              "      <th>Basketball</th>\n",
              "      <td>98058</td>\n",
              "    </tr>\n",
              "    <tr>\n",
              "      <th>Cable or Satellite</th>\n",
              "      <td>98058</td>\n",
              "    </tr>\n",
              "    <tr>\n",
              "      <th>Clubhouse</th>\n",
              "      <td>98058</td>\n",
              "    </tr>\n",
              "    <tr>\n",
              "      <th>Dishwasher</th>\n",
              "      <td>98058</td>\n",
              "    </tr>\n",
              "    <tr>\n",
              "      <th>Doorman</th>\n",
              "      <td>98058</td>\n",
              "    </tr>\n",
              "    <tr>\n",
              "      <th>Elevator</th>\n",
              "      <td>98058</td>\n",
              "    </tr>\n",
              "    <tr>\n",
              "      <th>Fireplace</th>\n",
              "      <td>98058</td>\n",
              "    </tr>\n",
              "    <tr>\n",
              "      <th>Garbage Disposal</th>\n",
              "      <td>98058</td>\n",
              "    </tr>\n",
              "    <tr>\n",
              "      <th>Gated</th>\n",
              "      <td>98058</td>\n",
              "    </tr>\n",
              "    <tr>\n",
              "      <th>Golf</th>\n",
              "      <td>98058</td>\n",
              "    </tr>\n",
              "    <tr>\n",
              "      <th>Gym</th>\n",
              "      <td>98058</td>\n",
              "    </tr>\n",
              "    <tr>\n",
              "      <th>Hot Tub</th>\n",
              "      <td>98058</td>\n",
              "    </tr>\n",
              "    <tr>\n",
              "      <th>Internet Access</th>\n",
              "      <td>98058</td>\n",
              "    </tr>\n",
              "    <tr>\n",
              "      <th>Luxury</th>\n",
              "      <td>98058</td>\n",
              "    </tr>\n",
              "    <tr>\n",
              "      <th>Parking</th>\n",
              "      <td>98058</td>\n",
              "    </tr>\n",
              "    <tr>\n",
              "      <th>Patio/Deck</th>\n",
              "      <td>98058</td>\n",
              "    </tr>\n",
              "    <tr>\n",
              "      <th>Playground</th>\n",
              "      <td>98058</td>\n",
              "    </tr>\n",
              "    <tr>\n",
              "      <th>Pool</th>\n",
              "      <td>98058</td>\n",
              "    </tr>\n",
              "    <tr>\n",
              "      <th>Refrigerator</th>\n",
              "      <td>98058</td>\n",
              "    </tr>\n",
              "    <tr>\n",
              "      <th>Storage</th>\n",
              "      <td>98058</td>\n",
              "    </tr>\n",
              "    <tr>\n",
              "      <th>TV</th>\n",
              "      <td>98058</td>\n",
              "    </tr>\n",
              "    <tr>\n",
              "      <th>Tennis</th>\n",
              "      <td>98058</td>\n",
              "    </tr>\n",
              "    <tr>\n",
              "      <th>View</th>\n",
              "      <td>98058</td>\n",
              "    </tr>\n",
              "    <tr>\n",
              "      <th>Washer Dryer</th>\n",
              "      <td>98058</td>\n",
              "    </tr>\n",
              "    <tr>\n",
              "      <th>Wood Floors</th>\n",
              "      <td>98058</td>\n",
              "    </tr>\n",
              "    <tr>\n",
              "      <th>dogs</th>\n",
              "      <td>98058</td>\n",
              "    </tr>\n",
              "    <tr>\n",
              "      <th>cats</th>\n",
              "      <td>98058</td>\n",
              "    </tr>\n",
              "  </tbody>\n",
              "</table>\n",
              "</div><br><label><b>dtype:</b> int64</label>"
            ]
          },
          "metadata": {},
          "execution_count": 39
        }
      ]
    },
    {
      "cell_type": "code",
      "source": [
        "df.info()"
      ],
      "metadata": {
        "id": "YH3AXu7GNGTh",
        "colab": {
          "base_uri": "https://localhost:8080/"
        },
        "outputId": "28285961-7469-42ed-b09e-994830025104"
      },
      "execution_count": null,
      "outputs": [
        {
          "output_type": "stream",
          "name": "stdout",
          "text": [
            "<class 'pandas.core.frame.DataFrame'>\n",
            "Index: 97891 entries, 0 to 99491\n",
            "Data columns (total 39 columns):\n",
            " #   Column              Non-Null Count  Dtype  \n",
            "---  ------              --------------  -----  \n",
            " 0   bathrooms           97891 non-null  float64\n",
            " 1   bedrooms            97891 non-null  float64\n",
            " 2   has_photo           97891 non-null  int64  \n",
            " 3   price               97891 non-null  float64\n",
            " 4   square_feet         97891 non-null  int64  \n",
            " 5   cityname            97891 non-null  object \n",
            " 6   state               97891 non-null  object \n",
            " 7   latitude            97891 non-null  float64\n",
            " 8   longitude           97891 non-null  float64\n",
            " 9   time                97891 non-null  int64  \n",
            " 10  AC                  97891 non-null  int64  \n",
            " 11  Alarm               97891 non-null  int64  \n",
            " 12  Basketball          97891 non-null  int64  \n",
            " 13  Cable or Satellite  97891 non-null  int64  \n",
            " 14  Clubhouse           97891 non-null  int64  \n",
            " 15  Dishwasher          97891 non-null  int64  \n",
            " 16  Doorman             97891 non-null  int64  \n",
            " 17  Elevator            97891 non-null  int64  \n",
            " 18  Fireplace           97891 non-null  int64  \n",
            " 19  Garbage Disposal    97891 non-null  int64  \n",
            " 20  Gated               97891 non-null  int64  \n",
            " 21  Golf                97891 non-null  int64  \n",
            " 22  Gym                 97891 non-null  int64  \n",
            " 23  Hot Tub             97891 non-null  int64  \n",
            " 24  Internet Access     97891 non-null  int64  \n",
            " 25  Luxury              97891 non-null  int64  \n",
            " 26  Parking             97891 non-null  int64  \n",
            " 27  Patio/Deck          97891 non-null  int64  \n",
            " 28  Playground          97891 non-null  int64  \n",
            " 29  Pool                97891 non-null  int64  \n",
            " 30  Refrigerator        97891 non-null  int64  \n",
            " 31  Storage             97891 non-null  int64  \n",
            " 32  TV                  97891 non-null  int64  \n",
            " 33  Tennis              97891 non-null  int64  \n",
            " 34  View                97891 non-null  int64  \n",
            " 35  Washer Dryer        97891 non-null  int64  \n",
            " 36  Wood Floors         97891 non-null  int64  \n",
            " 37  dogs                97891 non-null  int64  \n",
            " 38  cats                97891 non-null  int64  \n",
            "dtypes: float64(5), int64(32), object(2)\n",
            "memory usage: 29.9+ MB\n"
          ]
        }
      ]
    },
    {
      "cell_type": "code",
      "source": [
        "df['price'].plot(kind='kde')"
      ],
      "metadata": {
        "id": "sH3QX7UZh9R-",
        "colab": {
          "base_uri": "https://localhost:8080/",
          "height": 450
        },
        "outputId": "23b3f6dc-a00e-403d-8c23-8d2dd72c0809"
      },
      "execution_count": null,
      "outputs": [
        {
          "output_type": "execute_result",
          "data": {
            "text/plain": [
              "<Axes: ylabel='Density'>"
            ]
          },
          "metadata": {},
          "execution_count": 40
        },
        {
          "output_type": "display_data",
          "data": {
            "text/plain": [
              "<Figure size 640x480 with 1 Axes>"
            ],
            "image/png": "[encoded data removed]"
          },
          "metadata": {}
        }
      ]
    },
    {
      "cell_type": "code",
      "source": [
        "# Gerando o arquivo CSV da base pós-processamento\n",
        "df.to_csv('baseprocessada.csv', index=False)\n",
        "\n",
        "# Baixando o arquivo gerado\n",
        "files.download('baseprocessada.csv')"
      ],
      "metadata": {
        "id": "rXjhPoSpaqJ3",
        "colab": {
          "base_uri": "https://localhost:8080/",
          "height": 17
        },
        "outputId": "668e60df-9254-4b23-ee76-bae105a45f01"
      },
      "execution_count": null,
      "outputs": [
        {
          "output_type": "display_data",
          "data": {
            "text/plain": [
              "<IPython.core.display.Javascript object>"
            ],
            "application/javascript": [
              "\n",
              "    async function download(id, filename, size) {\n",
              "      if (!google.colab.kernel.accessAllowed) {\n",
              "        return;\n",
              "      }\n",
              "      const div = document.createElement('div');\n",
              "      const label = document.createElement('label');\n",
              "      label.textContent = `Downloading \"${filename}\": `;\n",
              "      div.appendChild(label);\n",
              "      const progress = document.createElement('progress');\n",
              "      progress.max = size;\n",
              "      div.appendChild(progress);\n",
              "      document.body.appendChild(div);\n",
              "\n",
              "      const buffers = [];\n",
              "      let downloaded = 0;\n",
              "\n",
              "      const channel = await google.colab.kernel.comms.open(id);\n",
              "      // Send a message to notify the kernel that we're ready.\n",
              "      channel.send({})\n",
              "\n",
              "      for await (const message of channel.messages) {\n",
              "        // Send a message to notify the kernel that we're ready.\n",
              "        channel.send({})\n",
              "        if (message.buffers) {\n",
              "          for (const buffer of message.buffers) {\n",
              "            buffers.push(buffer);\n",
              "            downloaded += buffer.byteLength;\n",
              "            progress.value = downloaded;\n",
              "          }\n",
              "        }\n",
              "      }\n",
              "      const blob = new Blob(buffers, {type: 'application/binary'});\n",
              "      const a = document.createElement('a');\n",
              "      a.href = window.URL.createObjectURL(blob);\n",
              "      a.download = filename;\n",
              "      div.appendChild(a);\n",
              "      a.click();\n",
              "      div.remove();\n",
              "    }\n",
              "  "
            ]
          },
          "metadata": {}
        },
        {
          "output_type": "display_data",
          "data": {
            "text/plain": [
              "<IPython.core.display.Javascript object>"
            ],
            "application/javascript": [
              "download(\"download_68965dec-2ea7-4889-a2c8-6bfbc8eda73f\", \"baseprocessada.csv\", 11767505)"
            ]
          },
          "metadata": {}
        }
      ]
    },
    {
      "cell_type": "code",
      "source": [
        "#Se desejado, já é possível baixar o dataset processado dividido em train e test set.\n",
        "#from sklearn.model_selection import train_test_split\n",
        "#train_df, test_df = train_test_split(df, test_size=0.2, random_state=42)\n",
        "\n",
        "#train_df.to_csv('train.csv', index=False)\n",
        "#test_df.to_csv('test.csv', index=False)\n",
        "\n",
        "# files.download('train.csv')\n",
        "# files.download('test.csv')"
      ],
      "metadata": {
        "id": "fcaXLiRukNxh"
      },
      "execution_count": null,
      "outputs": []
    }
  ]
}